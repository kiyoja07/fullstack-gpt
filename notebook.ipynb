{
 "cells": [
  {
   "cell_type": "code",
   "execution_count": 3,
   "metadata": {},
   "outputs": [
    {
     "data": {
      "text/plain": [
       "'There are currently eight known planets in our solar system: Mercury, Venus, Earth, Mars, Jupiter, Saturn, Uranus, and Neptune.'"
      ]
     },
     "execution_count": 3,
     "metadata": {},
     "output_type": "execute_result"
    }
   ],
   "source": [
    "# 실행하면 .env 파일의 OPENAI_API_KEY 를 자동으로 참조함.\n",
    "from langchain.chat_models import ChatOpenAI\n",
    "from langchain.prompts import PromptTemplate, ChatPromptTemplate\n",
    "\n",
    "chat = ChatOpenAI()\n",
    "\n",
    "b = chat.predict(\"How many planets are there?\")\n",
    "\n",
    "b"
   ]
  },
  {
   "cell_type": "code",
   "execution_count": 4,
   "metadata": {},
   "outputs": [
    {
     "data": {
      "text/plain": [
       "'The distance between Mexico and Thailand is approximately 16,000 kilometers (9,942 miles).'"
      ]
     },
     "execution_count": 4,
     "metadata": {},
     "output_type": "execute_result"
    }
   ],
   "source": [
    "from langchain.chat_models import ChatOpenAI\n",
    "from langchain.prompts import PromptTemplate, ChatPromptTemplate\n",
    "\n",
    "chat = ChatOpenAI(temperature=0.1) #temperature 0~1까지 1에 가까울 수록 무작위성 증가\n",
    "\n",
    "template = PromptTemplate.from_template(\n",
    "    \"What is the distance between {country_a} and {country_b}\",\n",
    ")\n",
    "\n",
    "prompt = template.format(country_a=\"Mexico\", country_b=\"Thailand\")\n",
    "\n",
    "chat.predict(prompt)"
   ]
  },
  {
   "cell_type": "code",
   "execution_count": 5,
   "metadata": {},
   "outputs": [
    {
     "data": {
      "text/plain": [
       "AIMessage(content='Γεια σου! Το όνομά μου είναι Σωκράτης. Η απόσταση μεταξύ του Μεξικού και της Ταϊλάνδης είναι περίπου 17.000 χιλιόμετρα.')"
      ]
     },
     "execution_count": 5,
     "metadata": {},
     "output_type": "execute_result"
    }
   ],
   "source": [
    "template = ChatPromptTemplate.from_messages(\n",
    "    [\n",
    "        (\"system\", \"You are a geography expert. And you only reply in {language}.\"),\n",
    "        (\"ai\", \"Ciao, mi chiamo {name}!\"),\n",
    "        (\n",
    "            \"human\",\n",
    "            \"What is the distance between {country_a} and {country_b}. Also, what is your name?\",\n",
    "        ),\n",
    "    ]\n",
    ")\n",
    "\n",
    "prompt = template.format_messages(\n",
    "    language=\"Greek\",\n",
    "    name=\"Socrates\",\n",
    "    country_a=\"Mexico\",\n",
    "    country_b=\"Thailand\",\n",
    ")\n",
    "\n",
    "\n",
    "chat.predict_messages(prompt)"
   ]
  },
  {
   "cell_type": "markdown",
   "metadata": {},
   "source": [
    "#3.3 OutputParser and LCEL"
   ]
  },
  {
   "cell_type": "code",
   "execution_count": 1,
   "metadata": {},
   "outputs": [],
   "source": [
    "from langchain.chat_models import ChatOpenAI\n",
    "from langchain.prompts import ChatPromptTemplate\n",
    "\n",
    "chat = ChatOpenAI(temperature=0.1)"
   ]
  },
  {
   "cell_type": "code",
   "execution_count": 2,
   "metadata": {},
   "outputs": [],
   "source": [
    "from langchain.schema import BaseOutputParser\n",
    "\n",
    "\n",
    "class CommaOutputParser(BaseOutputParser):\n",
    "    def parse(self, text):\n",
    "        items = text.strip().split(\",\")\n",
    "        return list(map(str.strip, items))"
   ]
  },
  {
   "cell_type": "code",
   "execution_count": 3,
   "metadata": {},
   "outputs": [],
   "source": [
    "template = ChatPromptTemplate.from_messages(\n",
    "    [\n",
    "        (\n",
    "            \"system\",\n",
    "            \"You are a list generating machine. Everything you are asked will be answered with a comma separated list of max {max_items} in lowercase.Do NOT reply with anything else.\",\n",
    "        ),\n",
    "        (\"human\", \"{question}\"),\n",
    "    ]\n",
    ")"
   ]
  },
  {
   "cell_type": "code",
   "execution_count": 4,
   "metadata": {},
   "outputs": [
    {
     "data": {
      "text/plain": [
       "['pikachu', 'charizard', 'bulbasaur', 'squirtle', 'jigglypuff']"
      ]
     },
     "execution_count": 4,
     "metadata": {},
     "output_type": "execute_result"
    }
   ],
   "source": [
    "chain = template | chat | CommaOutputParser() # chain은 template, chat, CommaOutputParser를 하나로 묶어서 순서대로 실행하는 파이프라인\n",
    "\n",
    "chain.invoke({\"max_items\": 5, \"question\": \"What are the pokemons?\"})"
   ]
  },
  {
   "cell_type": "markdown",
   "metadata": {},
   "source": [
    "#3.4 Chaining Chains"
   ]
  },
  {
   "cell_type": "code",
   "execution_count": 4,
   "metadata": {},
   "outputs": [],
   "source": [
    "from langchain.chat_models import ChatOpenAI\n",
    "from langchain.prompts import ChatPromptTemplate\n",
    "from langchain.callbacks import StreamingStdOutCallbackHandler\n",
    "\n",
    "chat = ChatOpenAI(\n",
    "    temperature=0.1,\n",
    "    streaming=True,\n",
    "    callbacks=[\n",
    "        StreamingStdOutCallbackHandler(),\n",
    "    ],\n",
    ")\n",
    "\n",
    "chef_prompt = ChatPromptTemplate.from_messages(\n",
    "    [\n",
    "        (\n",
    "            \"system\",\n",
    "            \"You are a world-class international chef. You create easy to follow recipies for any type of cuisine with easy to find ingredients.\",\n",
    "        ),\n",
    "        (\"human\", \"I want to cook {cuisine} food.\"),\n",
    "    ]\n",
    ")\n",
    "\n",
    "chef_chain = chef_prompt | chat"
   ]
  },
  {
   "cell_type": "code",
   "execution_count": 5,
   "metadata": {},
   "outputs": [
    {
     "name": "stdout",
     "output_type": "stream",
     "text": [
      "Great choice! Indian cuisine is known for its rich flavors and aromatic spices. Here's a recipe for a classic Indian dish called Butter Chicken:\n",
      "\n",
      "Ingredients:\n",
      "- 500g boneless chicken, cut into bite-sized pieces\n",
      "- 2 tablespoons butter\n",
      "- 1 onion, finely chopped\n",
      "- 2 cloves of garlic, minced\n",
      "- 1-inch piece of ginger, grated\n",
      "- 2 teaspoons garam masala\n",
      "- 1 teaspoon turmeric powder\n",
      "- 1 teaspoon chili powder (adjust according to your spice preference)\n",
      "- 1 cup tomato puree\n",
      "- 1/2 cup heavy cream\n",
      "- Salt, to taste\n",
      "- Fresh cilantro, for garnish\n",
      "\n",
      "Instructions:\n",
      "1. Heat the butter in a large pan over medium heat. Add the chopped onion and sauté until it turns golden brown.\n",
      "2. Add the minced garlic and grated ginger to the pan. Cook for another minute until fragrant.\n",
      "3. In a small bowl, mix together the garam masala, turmeric powder, and chili powder. Add this spice mixture to the pan and cook for a minute to release the flavors.\n",
      "4. Add the chicken pieces to the pan and cook until they are lightly browned on all sides.\n",
      "5. Pour in the tomato puree and season with salt. Stir well to combine all the ingredients.\n",
      "6. Reduce the heat to low, cover the pan, and let the chicken simmer for about 15-20 minutes, or until it is cooked through and tender.\n",
      "7. Stir in the heavy cream and cook for an additional 2-3 minutes to thicken the sauce.\n",
      "8. Garnish with fresh cilantro and serve hot with steamed rice or naan bread.\n",
      "\n",
      "Enjoy your homemade Butter Chicken!Great choice! Butter Chicken is a delicious and popular Indian dish. To make it vegetarian, you can replace the chicken with a plant-based alternative such as tofu or paneer (Indian cottage cheese). Here's how you can modify the recipe:\n",
      "\n",
      "Ingredients:\n",
      "- 500g tofu or paneer, cut into bite-sized pieces\n",
      "- 2 tablespoons butter (or vegan butter for a vegan version)\n",
      "- 1 onion, finely chopped\n",
      "- 2 cloves of garlic, minced\n",
      "- 1-inch piece of ginger, grated\n",
      "- 2 teaspoons garam masala\n",
      "- 1 teaspoon turmeric powder\n",
      "- 1 teaspoon chili powder (adjust according to your spice preference)\n",
      "- 1 cup tomato puree\n",
      "- 1/2 cup heavy cream (or coconut cream for a vegan version)\n",
      "- Salt, to taste\n",
      "- Fresh cilantro, for garnish\n",
      "\n",
      "Instructions:\n",
      "1. Heat the butter in a large pan over medium heat. Add the chopped onion and sauté until it turns golden brown.\n",
      "2. Add the minced garlic and grated ginger to the pan. Cook for another minute until fragrant.\n",
      "3. In a small bowl, mix together the garam masala, turmeric powder, and chili powder. Add this spice mixture to the pan and cook for a minute to release the flavors.\n",
      "4. Add the tofu or paneer pieces to the pan and cook until they are lightly browned on all sides.\n",
      "5. Pour in the tomato puree and season with salt. Stir well to combine all the ingredients.\n",
      "6. Reduce the heat to low, cover the pan, and let the tofu or paneer simmer for about 15-20 minutes, or until it absorbs the flavors of the sauce.\n",
      "7. Stir in the heavy cream (or coconut cream) and cook for an additional 2-3 minutes to thicken the sauce.\n",
      "8. Garnish with fresh cilantro and serve hot with steamed rice or naan bread.\n",
      "\n",
      "Enjoy your vegetarian Butter Chicken!"
     ]
    },
    {
     "data": {
      "text/plain": [
       "AIMessageChunk(content=\"Great choice! Butter Chicken is a delicious and popular Indian dish. To make it vegetarian, you can replace the chicken with a plant-based alternative such as tofu or paneer (Indian cottage cheese). Here's how you can modify the recipe:\\n\\nIngredients:\\n- 500g tofu or paneer, cut into bite-sized pieces\\n- 2 tablespoons butter (or vegan butter for a vegan version)\\n- 1 onion, finely chopped\\n- 2 cloves of garlic, minced\\n- 1-inch piece of ginger, grated\\n- 2 teaspoons garam masala\\n- 1 teaspoon turmeric powder\\n- 1 teaspoon chili powder (adjust according to your spice preference)\\n- 1 cup tomato puree\\n- 1/2 cup heavy cream (or coconut cream for a vegan version)\\n- Salt, to taste\\n- Fresh cilantro, for garnish\\n\\nInstructions:\\n1. Heat the butter in a large pan over medium heat. Add the chopped onion and sauté until it turns golden brown.\\n2. Add the minced garlic and grated ginger to the pan. Cook for another minute until fragrant.\\n3. In a small bowl, mix together the garam masala, turmeric powder, and chili powder. Add this spice mixture to the pan and cook for a minute to release the flavors.\\n4. Add the tofu or paneer pieces to the pan and cook until they are lightly browned on all sides.\\n5. Pour in the tomato puree and season with salt. Stir well to combine all the ingredients.\\n6. Reduce the heat to low, cover the pan, and let the tofu or paneer simmer for about 15-20 minutes, or until it absorbs the flavors of the sauce.\\n7. Stir in the heavy cream (or coconut cream) and cook for an additional 2-3 minutes to thicken the sauce.\\n8. Garnish with fresh cilantro and serve hot with steamed rice or naan bread.\\n\\nEnjoy your vegetarian Butter Chicken!\")"
      ]
     },
     "execution_count": 5,
     "metadata": {},
     "output_type": "execute_result"
    }
   ],
   "source": [
    "veg_chef_prompt = ChatPromptTemplate.from_messages(\n",
    "    [\n",
    "        (\n",
    "            \"system\",\n",
    "            \"You are a vegetarian chef specialized on making traditional recipies vegetarian. You find alternative ingredients and explain their preparation. You don't radically modify the recipe. If there is no alternative for a food just say you don't know how to replace it.\",\n",
    "        ),\n",
    "        (\"human\", \"{recipe}\"),\n",
    "    ]\n",
    ")\n",
    "\n",
    "\n",
    "veg_chain = veg_chef_prompt | chat\n",
    "\n",
    "\n",
    "final_chain = {\"recipe\": chef_chain} | veg_chain\n",
    "\n",
    "final_chain.invoke({\"cuisine\": \"indian\"})"
   ]
  }
 ],
 "metadata": {
  "kernelspec": {
   "display_name": "env",
   "language": "python",
   "name": "python3"
  },
  "language_info": {
   "codemirror_mode": {
    "name": "ipython",
    "version": 3
   },
   "file_extension": ".py",
   "mimetype": "text/x-python",
   "name": "python",
   "nbconvert_exporter": "python",
   "pygments_lexer": "ipython3",
   "version": "3.11.5"
  }
 },
 "nbformat": 4,
 "nbformat_minor": 2
}
