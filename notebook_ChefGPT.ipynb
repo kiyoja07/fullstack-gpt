{
 "cells": [
  {
   "cell_type": "markdown",
   "id": "8245d881",
   "metadata": {},
   "source": [
    "#12.1 Your First Agent"
   ]
  },
  {
   "cell_type": "code",
   "execution_count": 2,
   "id": "fc715b9d",
   "metadata": {},
   "outputs": [
    {
     "data": {
      "text/plain": [
       "AIMessage(content='To find the cost of $2.4 multiplied by $45.3 multiplied by $23.7, you would simply multiply the three numbers together:\\n\\n$2.4 x $45.3 x $23.7 = $2.4 x 45.3 x 23.7 = $258.48 x 23.7 = $6130.776\\n\\nTherefore, the cost of $2.4 multiplied by $45.3 multiplied by $23.7 is $6130.776.', additional_kwargs={}, response_metadata={'token_usage': {'completion_tokens': 105, 'prompt_tokens': 23, 'total_tokens': 128, 'completion_tokens_details': {'accepted_prediction_tokens': 0, 'audio_tokens': 0, 'reasoning_tokens': 0, 'rejected_prediction_tokens': 0}, 'prompt_tokens_details': {'audio_tokens': 0, 'cached_tokens': 0}}, 'model_name': 'gpt-3.5-turbo', 'system_fingerprint': None, 'finish_reason': 'stop', 'logprobs': None}, id='run--c851ab21-b463-4b5c-83d5-d7a2b7451c16-0')"
      ]
     },
     "execution_count": 2,
     "metadata": {},
     "output_type": "execute_result"
    }
   ],
   "source": [
    "from langchain.chat_models import ChatOpenAI\n",
    "from langchain.tools import StructuredTool\n",
    "from langchain.agents import initialize_agent, AgentType\n",
    "\n",
    "llm = ChatOpenAI(temperature=0.1)\n",
    "\n",
    "\n",
    "def multiply(a, b):\n",
    "    return a * b\n",
    "\n",
    "\n",
    "agent = initialize_agent(\n",
    "    llm=llm,\n",
    "    verbose=True,\n",
    "    agent=AgentType.STRUCTURED_CHAT_ZERO_SHOT_REACT_DESCRIPTION,\n",
    "    tools=[\n",
    "        StructuredTool.from_function(\n",
    "            func=multiply,\n",
    "            name=\"Multiplication Calculator\",\n",
    "            description=\"Use this to perform multiplications of two numbers. This tool take two arguments, both  should be numbers.\",\n",
    "        ),\n",
    "    ],\n",
    ")\n",
    "\n",
    "prompt = \"Cost of $2.4 x $45.3 x $23.7\"\n",
    "# prompt = \"Cost of $355.39 + $924.87 + $721.2 + $1940.29 + $573.63 + $65.72 + $35.00 + $552.00 + $76.16 + $29.12\"\n",
    "\n",
    "llm.invoke(prompt)\n",
    "# agent.invoke(prompt)"
   ]
  },
  {
   "cell_type": "code",
   "execution_count": 3,
   "id": "aa87eb7b",
   "metadata": {},
   "outputs": [
    {
     "name": "stdout",
     "output_type": "stream",
     "text": [
      "\n",
      "\n",
      "\u001b[1m> Entering new AgentExecutor chain...\u001b[0m\n",
      "\u001b[32;1m\u001b[1;3mThought:\n",
      "To find the cost of $2.4 multiplied by $45.3 and then multiplied by $23.7, I can use the Multiplication Calculator tool.\n",
      "\n",
      "Action:\n",
      "```\n",
      "{\n",
      "  \"action\": \"Multiplication Calculator\",\n",
      "  \"action_input\": {\n",
      "    \"a\": 2.4,\n",
      "    \"b\": 45.3\n",
      "  }\n",
      "}\n",
      "```\u001b[0m\n",
      "Observation: \u001b[36;1m\u001b[1;3m108.71999999999998\u001b[0m\n",
      "Thought:\u001b[32;1m\u001b[1;3mNow that we have the result of the first multiplication, we can proceed to multiply it by $23.7 to find the final cost.\n",
      "Action: \n",
      "```\n",
      "{\n",
      "  \"action\": \"Multiplication Calculator\",\n",
      "  \"action_input\": {\n",
      "    \"a\": 108.72,\n",
      "    \"b\": 23.7\n",
      "  }\n",
      "}\n",
      "```\u001b[0m\n",
      "Observation: \u001b[36;1m\u001b[1;3m2576.6639999999998\u001b[0m\n",
      "Thought:\u001b[32;1m\u001b[1;3mNow that we have the final result of multiplying $2.4 by $45.3 and then by $23.7, we can provide the total cost.\n",
      "Action:\n",
      "```\n",
      "{\n",
      "  \"action\": \"Final Answer\",\n",
      "  \"action_input\": \"The cost is $2576.66\"\n",
      "}\n",
      "```\u001b[0m\n",
      "\n",
      "\u001b[1m> Finished chain.\u001b[0m\n"
     ]
    },
    {
     "data": {
      "text/plain": [
       "{'input': 'Cost of $2.4 x $45.3 x $23.7', 'output': 'The cost is $2576.66'}"
      ]
     },
     "execution_count": 3,
     "metadata": {},
     "output_type": "execute_result"
    }
   ],
   "source": [
    "agent.invoke(prompt)"
   ]
  },
  {
   "cell_type": "markdown",
   "id": "a9796775",
   "metadata": {},
   "source": [
    "#13.8 Pinecone"
   ]
  },
  {
   "cell_type": "markdown",
   "id": "ae04dbce",
   "metadata": {},
   "source": [
    "문서 : https://python.langchain.com/docs/integrations/vectorstores/pinecone/\n",
    "\n",
    "recipes를 index로 vector 만들기"
   ]
  },
  {
   "cell_type": "code",
   "execution_count": 5,
   "id": "63030f33",
   "metadata": {},
   "outputs": [],
   "source": [
    "from pinecone import Pinecone\n",
    "from pinecone import ServerlessSpec\n",
    "from langchain_pinecone import PineconeVectorStore\n",
    "import os\n",
    "from langchain_community.document_loaders import CSVLoader\n",
    "from langchain.text_splitter import RecursiveCharacterTextSplitter\n",
    "from langchain_openai import OpenAIEmbeddings\n",
    "\n",
    "index_name = \"recipes\"\n",
    "\n",
    "pinecone_api_key = os.getenv(\"PINECONE_API_KEY\")\n",
    "\n",
    "pc = Pinecone(api_key=pinecone_api_key)\n",
    "\n",
    "index = pc.Index(index_name)\n",
    "\n",
    "loader = CSVLoader(file_path=\"./recipes.csv\", encoding=\"utf-8\")\n",
    "\n",
    "docs = loader.load()\n",
    "\n",
    "splitter = RecursiveCharacterTextSplitter(\n",
    "    chunk_size=1000, chunk_overlap=200\n",
    ")\n",
    "\n",
    "chunked_docs = splitter.split_documents(docs)\n",
    "\n",
    "embeddings = OpenAIEmbeddings(model=\"text-embedding-3-small\", dimensions=1536)\n",
    "\n",
    "vectorstore = PineconeVectorStore.from_documents(\n",
    "    documents=chunked_docs,\n",
    "    embedding=embeddings,\n",
    "    index_name=index_name,\n",
    ")"
   ]
  },
  {
   "cell_type": "markdown",
   "id": "65247ec4",
   "metadata": {},
   "source": [
    "tofu로 검색"
   ]
  },
  {
   "cell_type": "code",
   "execution_count": 6,
   "id": "e993e024",
   "metadata": {},
   "outputs": [
    {
     "data": {
      "text/plain": [
       "[Document(id='114b4e4f-be50-4c56-b71b-ab42b164f371', metadata={'row': 199.0, 'source': './recipes.csv'}, page_content='Method'),\n",
       " Document(id='9d28de25-9539-4799-8cf2-fd9d2128de07', metadata={'row': 619.0, 'source': './recipes.csv'}, page_content='Method'),\n",
       " Document(id='cb6585f1-66aa-4266-9a43-93fa49f91432', metadata={'row': 367.0, 'source': './recipes.csv'}, page_content='Preheat the oven to 200°C/180Fan Gas 6. Drain the Tofoo and pat dry.\\nPeel the potatoes and cut into chips, bring a large pan of lightly salted water to the boil and cook the cut potato for 5 minutes, drain well then toss with the olive oil. Spread out onto a non stick baking tray and cook in the oven for 30 minutes, turning half way through cooking time.\\nWhile the chips are cooking, Cook the peas in a pan of boiling water for 5 minutes, drain and tip into a food processor with the crème fraiche, blitz until well combined .Heat gently.\\nCut the Tofoo into 4 slabs and dust in the seasoned flour. Blitz the self-rising flour with the seaweed and add the ale, blitz again until you have a smooth creamy batter.\\nHeat about 8cm oil in a pan to 180°C. Take a piece of tofu and dip in the batter to coat evenly, carefully lower into the hot fat and cook for 2 to 3 minutes, until golden and crispy. Repeat with the other 3 pieces.'),\n",
       " Document(id='ee56cc64-43a4-4917-85d8-c60d4a305a5a', metadata={'row': 10.0, 'source': './recipes.csv'}, page_content=': 10\\nhref: https://veganuary.com/recipes/tahini-protein-balls/\\ntitle: Tahini Protein Balls\\ningredients: Ingredients\\n\\n1 scoop of pea, soya or hemp protein powder  \\n2 tablespoons chia seeds \\n3 tablespoons cocoa powder or raw cacao \\n3 tablespoons of tahini, or peanut butter or any of your favourite nut butter \\n1 -2 tablespoon of brown rice syrup (depending how sweet you like it) \\n1 tablespoon coconut oil \\nPuffed quinoa, goji berries or any other favourite nuts or seeds to roll the balls in them\\npreparation: Method\\n\\nMix your protein powder, cocoa and chia seeds.\\nAdd brown rice syrup, mix, add coconut oil, mix and then slowly add tahini or nut butter.\\nCombine well together, create balls and roll them in your favourite topping.\\nKeep them in the fridge and pop in your mouth whenever you need something sweet or a little pick-me-up.')]"
      ]
     },
     "execution_count": 6,
     "metadata": {},
     "output_type": "execute_result"
    }
   ],
   "source": [
    "vector_store = PineconeVectorStore(index_name=\"recipes\",embedding=embeddings)\n",
    "\n",
    "docs = vector_store.similarity_search(\"topu\")\n",
    "\n",
    "docs\n",
    "\n"
   ]
  }
 ],
 "metadata": {
  "kernelspec": {
   "display_name": ".venv",
   "language": "python",
   "name": "python3"
  },
  "language_info": {
   "codemirror_mode": {
    "name": "ipython",
    "version": 3
   },
   "file_extension": ".py",
   "mimetype": "text/x-python",
   "name": "python",
   "nbconvert_exporter": "python",
   "pygments_lexer": "ipython3",
   "version": "3.11.8"
  }
 },
 "nbformat": 4,
 "nbformat_minor": 5
}
