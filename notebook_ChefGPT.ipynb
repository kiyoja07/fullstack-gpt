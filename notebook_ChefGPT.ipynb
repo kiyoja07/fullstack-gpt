{
 "cells": [
  {
   "cell_type": "markdown",
   "id": "8245d881",
   "metadata": {},
   "source": [
    "#12.1 Your First Agent"
   ]
  },
  {
   "cell_type": "code",
   "execution_count": 2,
   "id": "fc715b9d",
   "metadata": {},
   "outputs": [
    {
     "data": {
      "text/plain": [
       "AIMessage(content='To find the cost of $2.4 multiplied by $45.3 multiplied by $23.7, you would simply multiply the three numbers together:\\n\\n$2.4 x $45.3 x $23.7 = $2.4 x 45.3 x 23.7 = $258.48 x 23.7 = $6130.776\\n\\nTherefore, the cost of $2.4 multiplied by $45.3 multiplied by $23.7 is $6130.776.', additional_kwargs={}, response_metadata={'token_usage': {'completion_tokens': 105, 'prompt_tokens': 23, 'total_tokens': 128, 'completion_tokens_details': {'accepted_prediction_tokens': 0, 'audio_tokens': 0, 'reasoning_tokens': 0, 'rejected_prediction_tokens': 0}, 'prompt_tokens_details': {'audio_tokens': 0, 'cached_tokens': 0}}, 'model_name': 'gpt-3.5-turbo', 'system_fingerprint': None, 'finish_reason': 'stop', 'logprobs': None}, id='run--c851ab21-b463-4b5c-83d5-d7a2b7451c16-0')"
      ]
     },
     "execution_count": 2,
     "metadata": {},
     "output_type": "execute_result"
    }
   ],
   "source": [
    "from langchain.chat_models import ChatOpenAI\n",
    "from langchain.tools import StructuredTool\n",
    "from langchain.agents import initialize_agent, AgentType\n",
    "\n",
    "llm = ChatOpenAI(temperature=0.1)\n",
    "\n",
    "\n",
    "def multiply(a, b):\n",
    "    return a * b\n",
    "\n",
    "\n",
    "agent = initialize_agent(\n",
    "    llm=llm,\n",
    "    verbose=True,\n",
    "    agent=AgentType.STRUCTURED_CHAT_ZERO_SHOT_REACT_DESCRIPTION,\n",
    "    tools=[\n",
    "        StructuredTool.from_function(\n",
    "            func=multiply,\n",
    "            name=\"Multiplication Calculator\",\n",
    "            description=\"Use this to perform multiplications of two numbers. This tool take two arguments, both  should be numbers.\",\n",
    "        ),\n",
    "    ],\n",
    ")\n",
    "\n",
    "prompt = \"Cost of $2.4 x $45.3 x $23.7\"\n",
    "# prompt = \"Cost of $355.39 + $924.87 + $721.2 + $1940.29 + $573.63 + $65.72 + $35.00 + $552.00 + $76.16 + $29.12\"\n",
    "\n",
    "llm.invoke(prompt)\n",
    "# agent.invoke(prompt)"
   ]
  },
  {
   "cell_type": "code",
   "execution_count": 3,
   "id": "aa87eb7b",
   "metadata": {},
   "outputs": [
    {
     "name": "stdout",
     "output_type": "stream",
     "text": [
      "\n",
      "\n",
      "\u001b[1m> Entering new AgentExecutor chain...\u001b[0m\n",
      "\u001b[32;1m\u001b[1;3mThought:\n",
      "To find the cost of $2.4 multiplied by $45.3 and then multiplied by $23.7, I can use the Multiplication Calculator tool.\n",
      "\n",
      "Action:\n",
      "```\n",
      "{\n",
      "  \"action\": \"Multiplication Calculator\",\n",
      "  \"action_input\": {\n",
      "    \"a\": 2.4,\n",
      "    \"b\": 45.3\n",
      "  }\n",
      "}\n",
      "```\u001b[0m\n",
      "Observation: \u001b[36;1m\u001b[1;3m108.71999999999998\u001b[0m\n",
      "Thought:\u001b[32;1m\u001b[1;3mNow that we have the result of the first multiplication, we can proceed to multiply it by $23.7 to find the final cost.\n",
      "Action: \n",
      "```\n",
      "{\n",
      "  \"action\": \"Multiplication Calculator\",\n",
      "  \"action_input\": {\n",
      "    \"a\": 108.72,\n",
      "    \"b\": 23.7\n",
      "  }\n",
      "}\n",
      "```\u001b[0m\n",
      "Observation: \u001b[36;1m\u001b[1;3m2576.6639999999998\u001b[0m\n",
      "Thought:\u001b[32;1m\u001b[1;3mNow that we have the final result of multiplying $2.4 by $45.3 and then by $23.7, we can provide the total cost.\n",
      "Action:\n",
      "```\n",
      "{\n",
      "  \"action\": \"Final Answer\",\n",
      "  \"action_input\": \"The cost is $2576.66\"\n",
      "}\n",
      "```\u001b[0m\n",
      "\n",
      "\u001b[1m> Finished chain.\u001b[0m\n"
     ]
    },
    {
     "data": {
      "text/plain": [
       "{'input': 'Cost of $2.4 x $45.3 x $23.7', 'output': 'The cost is $2576.66'}"
      ]
     },
     "execution_count": 3,
     "metadata": {},
     "output_type": "execute_result"
    }
   ],
   "source": [
    "agent.invoke(prompt)"
   ]
  },
  {
   "cell_type": "markdown",
   "id": "a9796775",
   "metadata": {},
   "source": [
    "#13.8 Pinecone"
   ]
  },
  {
   "cell_type": "markdown",
   "id": "ae04dbce",
   "metadata": {},
   "source": [
    "문서 : https://python.langchain.com/docs/integrations/vectorstores/pinecone/\n",
    "\n",
    "recipes를 index로 vector 만들기"
   ]
  },
  {
   "cell_type": "code",
   "execution_count": 5,
   "id": "63030f33",
   "metadata": {},
   "outputs": [],
   "source": [
    "from pinecone import Pinecone\n",
    "from pinecone import ServerlessSpec\n",
    "from langchain_pinecone import PineconeVectorStore\n",
    "import os\n",
    "from langchain_community.document_loaders import CSVLoader\n",
    "from langchain.text_splitter import RecursiveCharacterTextSplitter\n",
    "from langchain_openai import OpenAIEmbeddings\n",
    "\n",
    "index_name = \"recipes\"\n",
    "\n",
    "pinecone_api_key = os.getenv(\"PINECONE_API_KEY\")\n",
    "\n",
    "pc = Pinecone(api_key=pinecone_api_key)\n",
    "\n",
    "index = pc.Index(index_name)\n",
    "\n",
    "loader = CSVLoader(file_path=\"./recipes.csv\", encoding=\"utf-8\")\n",
    "\n",
    "docs = loader.load()\n",
    "\n",
    "splitter = RecursiveCharacterTextSplitter(\n",
    "    chunk_size=1000, chunk_overlap=200\n",
    ")\n",
    "\n",
    "chunked_docs = splitter.split_documents(docs)\n",
    "\n",
    "embeddings = OpenAIEmbeddings(model=\"text-embedding-3-small\", dimensions=1536)\n",
    "\n",
    "vectorstore = PineconeVectorStore.from_documents(\n",
    "    documents=chunked_docs,\n",
    "    embedding=embeddings,\n",
    "    index_name=index_name,\n",
    ")"
   ]
  },
  {
   "cell_type": "code",
   "execution_count": 7,
   "id": "17ffbca7",
   "metadata": {},
   "outputs": [
    {
     "name": "stdout",
     "output_type": "stream",
     "text": [
      "Unexpected exception formatting exception. Falling back to standard exception\n"
     ]
    },
    {
     "name": "stderr",
     "output_type": "stream",
     "text": [
      "Traceback (most recent call last):\n",
      "  File \"/Users/yongjae/Documents/WEB-APP-Projects/FullStack-GPT/.venv/lib/python3.11/site-packages/IPython/core/interactiveshell.py\", line 3526, in run_code\n",
      "  File \"/var/folders/jm/6pbq_zts6k12d5j3w0c7pr6h0000gn/T/ipykernel_3291/1759443699.py\", line 1, in <module>\n",
      "    from pinecone import Pinecone\n",
      "  File \"/Users/yongjae/Documents/WEB-APP-Projects/FullStack-GPT/.venv/lib/python3.11/site-packages/pinecone/__init__.py\", line 5, in <module>\n",
      "    raise Exception(\n",
      "Exception: The official Pinecone python package has been renamed from `pinecone-client` to `pinecone`. Please remove `pinecone-client` from your project dependencies and add `pinecone` instead. See the README at https://github.com/pinecone-io/pinecone-python-client for more information on using the python SDK.\n",
      "\n",
      "During handling of the above exception, another exception occurred:\n",
      "\n",
      "Traceback (most recent call last):\n",
      "  File \"/Users/yongjae/Documents/WEB-APP-Projects/FullStack-GPT/.venv/lib/python3.11/site-packages/pygments/styles/__init__.py\", line 90, in get_style_by_name\n",
      "ModuleNotFoundError: No module named 'pygments.styles.default'\n",
      "\n",
      "During handling of the above exception, another exception occurred:\n",
      "\n",
      "Traceback (most recent call last):\n",
      "  File \"/Users/yongjae/Documents/WEB-APP-Projects/FullStack-GPT/.venv/lib/python3.11/site-packages/IPython/core/interactiveshell.py\", line 2120, in showtraceback\n",
      "  File \"/Users/yongjae/Documents/WEB-APP-Projects/FullStack-GPT/.venv/lib/python3.11/site-packages/IPython/core/ultratb.py\", line 1435, in structured_traceback\n",
      "  File \"/Users/yongjae/Documents/WEB-APP-Projects/FullStack-GPT/.venv/lib/python3.11/site-packages/IPython/core/ultratb.py\", line 1326, in structured_traceback\n",
      "  File \"/Users/yongjae/Documents/WEB-APP-Projects/FullStack-GPT/.venv/lib/python3.11/site-packages/IPython/core/ultratb.py\", line 1173, in structured_traceback\n",
      "  File \"/Users/yongjae/Documents/WEB-APP-Projects/FullStack-GPT/.venv/lib/python3.11/site-packages/IPython/core/ultratb.py\", line 1063, in format_exception_as_a_whole\n",
      "  File \"/Users/yongjae/Documents/WEB-APP-Projects/FullStack-GPT/.venv/lib/python3.11/site-packages/IPython/core/ultratb.py\", line 1114, in get_records\n",
      "  File \"/Users/yongjae/Documents/WEB-APP-Projects/FullStack-GPT/.venv/lib/python3.11/site-packages/pygments/styles/__init__.py\", line 92, in get_style_by_name\n",
      "pygments.util.ClassNotFound: Could not find style module 'default', though it should be builtin.\n"
     ]
    }
   ],
   "source": [
    "from pinecone import Pinecone\n",
    "from pinecone import ServerlessSpec\n",
    "from langchain_pinecone import PineconeVectorStore\n",
    "import os\n",
    "from langchain_openai import OpenAIEmbeddings\n",
    "\n",
    "pinecone_api_key = os.getenv(\"PINECONE_API_KEY\")\n",
    "\n",
    "pc = Pinecone(api_key=pinecone_api_key)\n",
    "\n",
    "index = pc.Index(index_name)\n",
    "\n",
    "embeddings = OpenAIEmbeddings(model=\"text-embedding-3-small\", dimensions=1536)"
   ]
  },
  {
   "cell_type": "markdown",
   "id": "65247ec4",
   "metadata": {},
   "source": [
    "tofu로 검색"
   ]
  },
  {
   "cell_type": "code",
   "execution_count": 1,
   "id": "e993e024",
   "metadata": {},
   "outputs": [
    {
     "name": "stdout",
     "output_type": "stream",
     "text": [
      "Unexpected exception formatting exception. Falling back to standard exception\n"
     ]
    },
    {
     "name": "stderr",
     "output_type": "stream",
     "text": [
      "Traceback (most recent call last):\n",
      "  File \"/Users/yongjae/Documents/WEB-APP-Projects/FullStack-GPT/.venv/lib/python3.11/site-packages/IPython/core/interactiveshell.py\", line 3526, in run_code\n",
      "  File \"/var/folders/jm/6pbq_zts6k12d5j3w0c7pr6h0000gn/T/ipykernel_3291/2276928331.py\", line 1, in <module>\n",
      "    vector_store = PineconeVectorStore(index_name=\"recipes\",embedding=embeddings)\n",
      "                   ^^^^^^^^^^^^^^^^^^^\n",
      "NameError: name 'PineconeVectorStore' is not defined\n",
      "\n",
      "During handling of the above exception, another exception occurred:\n",
      "\n",
      "Traceback (most recent call last):\n",
      "  File \"/Users/yongjae/Documents/WEB-APP-Projects/FullStack-GPT/.venv/lib/python3.11/site-packages/pygments/styles/__init__.py\", line 90, in get_style_by_name\n",
      "ModuleNotFoundError: No module named 'pygments.styles.default'\n",
      "\n",
      "During handling of the above exception, another exception occurred:\n",
      "\n",
      "Traceback (most recent call last):\n",
      "  File \"/Users/yongjae/Documents/WEB-APP-Projects/FullStack-GPT/.venv/lib/python3.11/site-packages/IPython/core/interactiveshell.py\", line 2120, in showtraceback\n",
      "  File \"/Users/yongjae/Documents/WEB-APP-Projects/FullStack-GPT/.venv/lib/python3.11/site-packages/IPython/core/ultratb.py\", line 1435, in structured_traceback\n",
      "  File \"/Users/yongjae/Documents/WEB-APP-Projects/FullStack-GPT/.venv/lib/python3.11/site-packages/IPython/core/ultratb.py\", line 1326, in structured_traceback\n",
      "  File \"/Users/yongjae/Documents/WEB-APP-Projects/FullStack-GPT/.venv/lib/python3.11/site-packages/IPython/core/ultratb.py\", line 1173, in structured_traceback\n",
      "  File \"/Users/yongjae/Documents/WEB-APP-Projects/FullStack-GPT/.venv/lib/python3.11/site-packages/IPython/core/ultratb.py\", line 1063, in format_exception_as_a_whole\n",
      "  File \"/Users/yongjae/Documents/WEB-APP-Projects/FullStack-GPT/.venv/lib/python3.11/site-packages/IPython/core/ultratb.py\", line 1114, in get_records\n",
      "  File \"/Users/yongjae/Documents/WEB-APP-Projects/FullStack-GPT/.venv/lib/python3.11/site-packages/pygments/styles/__init__.py\", line 92, in get_style_by_name\n",
      "pygments.util.ClassNotFound: Could not find style module 'default', though it should be builtin.\n"
     ]
    }
   ],
   "source": [
    "vector_store = PineconeVectorStore(index_name=\"recipes\",embedding=embeddings)\n",
    "\n",
    "docs = vector_store.similarity_search(\"topu\")\n",
    "\n",
    "docs\n",
    "\n"
   ]
  }
 ],
 "metadata": {
  "kernelspec": {
   "display_name": ".venv",
   "language": "python",
   "name": "python3"
  },
  "language_info": {
   "codemirror_mode": {
    "name": "ipython",
    "version": 3
   },
   "file_extension": ".py",
   "mimetype": "text/x-python",
   "name": "python",
   "nbconvert_exporter": "python",
   "pygments_lexer": "ipython3",
   "version": "3.11.8"
  }
 },
 "nbformat": 4,
 "nbformat_minor": 5
}
