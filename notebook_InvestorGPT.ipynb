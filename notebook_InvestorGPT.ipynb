{
 "cells": [
  {
   "cell_type": "markdown",
   "id": "8245d881",
   "metadata": {},
   "source": [
    "#12.1 Your First Agent"
   ]
  },
  {
   "cell_type": "code",
   "execution_count": 2,
   "id": "fc715b9d",
   "metadata": {},
   "outputs": [
    {
     "data": {
      "text/plain": [
       "AIMessage(content='To find the cost of $2.4 multiplied by $45.3 multiplied by $23.7, you would simply multiply the three numbers together:\\n\\n$2.4 x $45.3 x $23.7 = $2.4 x 45.3 x 23.7 = $258.48 x 23.7 = $6130.776\\n\\nTherefore, the cost of $2.4 multiplied by $45.3 multiplied by $23.7 is $6130.776.', additional_kwargs={}, response_metadata={'token_usage': {'completion_tokens': 105, 'prompt_tokens': 23, 'total_tokens': 128, 'completion_tokens_details': {'accepted_prediction_tokens': 0, 'audio_tokens': 0, 'reasoning_tokens': 0, 'rejected_prediction_tokens': 0}, 'prompt_tokens_details': {'audio_tokens': 0, 'cached_tokens': 0}}, 'model_name': 'gpt-3.5-turbo', 'system_fingerprint': None, 'finish_reason': 'stop', 'logprobs': None}, id='run--c851ab21-b463-4b5c-83d5-d7a2b7451c16-0')"
      ]
     },
     "execution_count": 2,
     "metadata": {},
     "output_type": "execute_result"
    }
   ],
   "source": [
    "from langchain.chat_models import ChatOpenAI\n",
    "from langchain.tools import StructuredTool\n",
    "from langchain.agents import initialize_agent, AgentType\n",
    "\n",
    "llm = ChatOpenAI(temperature=0.1)\n",
    "\n",
    "\n",
    "def multiply(a, b):\n",
    "    return a * b\n",
    "\n",
    "\n",
    "agent = initialize_agent(\n",
    "    llm=llm,\n",
    "    verbose=True,\n",
    "    agent=AgentType.STRUCTURED_CHAT_ZERO_SHOT_REACT_DESCRIPTION,\n",
    "    tools=[\n",
    "        StructuredTool.from_function(\n",
    "            func=multiply,\n",
    "            name=\"Multiplication Calculator\",\n",
    "            description=\"Use this to perform multiplications of two numbers. This tool take two arguments, both  should be numbers.\",\n",
    "        ),\n",
    "    ],\n",
    ")\n",
    "\n",
    "prompt = \"Cost of $2.4 x $45.3 x $23.7\"\n",
    "# prompt = \"Cost of $355.39 + $924.87 + $721.2 + $1940.29 + $573.63 + $65.72 + $35.00 + $552.00 + $76.16 + $29.12\"\n",
    "\n",
    "llm.invoke(prompt)\n",
    "# agent.invoke(prompt)"
   ]
  },
  {
   "cell_type": "code",
   "execution_count": 3,
   "id": "aa87eb7b",
   "metadata": {},
   "outputs": [
    {
     "name": "stdout",
     "output_type": "stream",
     "text": [
      "\n",
      "\n",
      "\u001b[1m> Entering new AgentExecutor chain...\u001b[0m\n",
      "\u001b[32;1m\u001b[1;3mThought:\n",
      "To find the cost of $2.4 multiplied by $45.3 and then multiplied by $23.7, I can use the Multiplication Calculator tool.\n",
      "\n",
      "Action:\n",
      "```\n",
      "{\n",
      "  \"action\": \"Multiplication Calculator\",\n",
      "  \"action_input\": {\n",
      "    \"a\": 2.4,\n",
      "    \"b\": 45.3\n",
      "  }\n",
      "}\n",
      "```\u001b[0m\n",
      "Observation: \u001b[36;1m\u001b[1;3m108.71999999999998\u001b[0m\n",
      "Thought:\u001b[32;1m\u001b[1;3mNow that we have the result of the first multiplication, we can proceed to multiply it by $23.7 to find the final cost.\n",
      "Action: \n",
      "```\n",
      "{\n",
      "  \"action\": \"Multiplication Calculator\",\n",
      "  \"action_input\": {\n",
      "    \"a\": 108.72,\n",
      "    \"b\": 23.7\n",
      "  }\n",
      "}\n",
      "```\u001b[0m\n",
      "Observation: \u001b[36;1m\u001b[1;3m2576.6639999999998\u001b[0m\n",
      "Thought:\u001b[32;1m\u001b[1;3mNow that we have the final result of multiplying $2.4 by $45.3 and then by $23.7, we can provide the total cost.\n",
      "Action:\n",
      "```\n",
      "{\n",
      "  \"action\": \"Final Answer\",\n",
      "  \"action_input\": \"The cost is $2576.66\"\n",
      "}\n",
      "```\u001b[0m\n",
      "\n",
      "\u001b[1m> Finished chain.\u001b[0m\n"
     ]
    },
    {
     "data": {
      "text/plain": [
       "{'input': 'Cost of $2.4 x $45.3 x $23.7', 'output': 'The cost is $2576.66'}"
      ]
     },
     "execution_count": 3,
     "metadata": {},
     "output_type": "execute_result"
    }
   ],
   "source": [
    "agent.invoke(prompt)"
   ]
  },
  {
   "cell_type": "markdown",
   "id": "999ae676",
   "metadata": {},
   "source": [
    "#12.3 Zero-shot ReAct Agent"
   ]
  },
  {
   "cell_type": "code",
   "execution_count": 1,
   "id": "10c3de0d",
   "metadata": {},
   "outputs": [
    {
     "name": "stderr",
     "output_type": "stream",
     "text": [
      "/var/folders/jm/6pbq_zts6k12d5j3w0c7pr6h0000gn/T/ipykernel_12550/3946161441.py:5: LangChainDeprecationWarning: The class `ChatOpenAI` was deprecated in LangChain 0.0.10 and will be removed in 1.0. An updated version of the class exists in the :class:`~langchain-openai package and should be used instead. To use it run `pip install -U :class:`~langchain-openai` and import as `from :class:`~langchain_openai import ChatOpenAI``.\n",
      "  llm = ChatOpenAI(temperature=0.1)\n",
      "/var/folders/jm/6pbq_zts6k12d5j3w0c7pr6h0000gn/T/ipykernel_12550/3946161441.py:13: LangChainDeprecationWarning: LangChain agents will continue to be supported, but it is recommended for new use cases to be built with LangGraph. LangGraph offers a more flexible and full-featured framework for building agents, including support for tool-calling, persistence of state, and human-in-the-loop workflows. For details, refer to the `LangGraph documentation <https://langchain-ai.github.io/langgraph/>`_ as well as guides for `Migrating from AgentExecutor <https://python.langchain.com/docs/how_to/migrate_agent/>`_ and LangGraph's `Pre-built ReAct agent <https://langchain-ai.github.io/langgraph/how-tos/create-react-agent/>`_.\n",
      "  agent = initialize_agent(\n"
     ]
    },
    {
     "name": "stdout",
     "output_type": "stream",
     "text": [
      "\n",
      "\n",
      "\u001b[1m> Entering new AgentExecutor chain...\u001b[0m\n",
      "\u001b[32;1m\u001b[1;3mI need to multiply these three numbers together to find the total cost.\n",
      "Action: Multiply Calculator\n",
      "Action Input: 2.4,45.3\u001b[0m\n",
      "Observation: \u001b[36;1m\u001b[1;3m108.71999999999998\u001b[0m\n",
      "Thought:\u001b[32;1m\u001b[1;3mI need to multiply the result by the third number.\n",
      "Action: Multiply Calculator\n",
      "Action Input: 108.72,23.7\u001b[0m\n",
      "Observation: \u001b[36;1m\u001b[1;3m2576.6639999999998\u001b[0m\n",
      "Thought:\u001b[32;1m\u001b[1;3mI now know the final answer\n",
      "Final Answer: $2576.66\u001b[0m\n",
      "\n",
      "\u001b[1m> Finished chain.\u001b[0m\n"
     ]
    },
    {
     "data": {
      "text/plain": [
       "{'input': 'Cost of $2.4 x $45.3 x $23.7', 'output': '$2576.66'}"
      ]
     },
     "execution_count": 1,
     "metadata": {},
     "output_type": "execute_result"
    }
   ],
   "source": [
    "from langchain.chat_models import ChatOpenAI\n",
    "from langchain.tools import StructuredTool, Tool\n",
    "from langchain.agents import initialize_agent, AgentType\n",
    "\n",
    "llm = ChatOpenAI(temperature=0.1)\n",
    "\n",
    "\n",
    "def multiply(inputs):\n",
    "    a, b = inputs.split(\",\")\n",
    "    return float(a) * float(b)\n",
    "\n",
    "\n",
    "agent = initialize_agent(\n",
    "    llm=llm,\n",
    "    verbose=True,\n",
    "    agent=AgentType.ZERO_SHOT_REACT_DESCRIPTION,\n",
    "    handle_parsing_errors=True,\n",
    "    tools=[\n",
    "        Tool.from_function(\n",
    "            func=multiply,\n",
    "            name=\"Multiply Calculator\",\n",
    "            description=\"Use this to perform multiplications of two numbers. Use this tool by sending a pair of number separated by a comma.\\nExample:1,2\",\n",
    "        ),\n",
    "    ],\n",
    ")\n",
    "\n",
    "prompt = \"Cost of $2.4 x $45.3 x $23.7\"\n",
    "# prompt = \"Cost of $355.39 + $924.87 + $721.2 + $1940.29 + $573.63 + $65.72 + $35.00 + $552.00 + $76.16 + $29.12\"\n",
    "\n",
    "agent.invoke(prompt)"
   ]
  },
  {
   "cell_type": "markdown",
   "id": "fb25844f",
   "metadata": {},
   "source": [
    "#12.4 OpenAI Functions Agent"
   ]
  },
  {
   "cell_type": "code",
   "execution_count": 2,
   "id": "4afacb34",
   "metadata": {},
   "outputs": [
    {
     "name": "stderr",
     "output_type": "stream",
     "text": [
      "/var/folders/jm/6pbq_zts6k12d5j3w0c7pr6h0000gn/T/ipykernel_14170/3833385283.py:28: LangChainDeprecationWarning: LangChain agents will continue to be supported, but it is recommended for new use cases to be built with LangGraph. LangGraph offers a more flexible and full-featured framework for building agents, including support for tool-calling, persistence of state, and human-in-the-loop workflows. For details, refer to the `LangGraph documentation <https://langchain-ai.github.io/langgraph/>`_ as well as guides for `Migrating from AgentExecutor <https://python.langchain.com/docs/how_to/migrate_agent/>`_ and LangGraph's `Pre-built ReAct agent <https://langchain-ai.github.io/langgraph/how-tos/create-react-agent/>`_.\n",
      "  agent = initialize_agent(\n"
     ]
    },
    {
     "name": "stdout",
     "output_type": "stream",
     "text": [
      "\n",
      "\n",
      "\u001b[1m> Entering new AgentExecutor chain...\u001b[0m\n",
      "\u001b[32;1m\u001b[1;3m\n",
      "Invoking: `CalculatorTool` with `{'a': 2.4, 'b': 45.3}`\n",
      "\n",
      "\n",
      "\u001b[0m\u001b[36;1m\u001b[1;3m108.71999999999998\u001b[0m\u001b[32;1m\u001b[1;3m\n",
      "Invoking: `CalculatorTool` with `{'a': 108.72, 'b': 23.7}`\n",
      "\n",
      "\n",
      "\u001b[0m\u001b[36;1m\u001b[1;3m2576.6639999999998\u001b[0m\u001b[32;1m\u001b[1;3mThe cost of $2.4 x $45.3 x $23.7 is $2576.66.\u001b[0m\n",
      "\n",
      "\u001b[1m> Finished chain.\u001b[0m\n"
     ]
    },
    {
     "data": {
      "text/plain": [
       "{'input': 'Cost of $2.4 x $45.3 x $23.7',\n",
       " 'output': 'The cost of $2.4 x $45.3 x $23.7 is $2576.66.'}"
      ]
     },
     "execution_count": 2,
     "metadata": {},
     "output_type": "execute_result"
    }
   ],
   "source": [
    "from typing import Any, Type\n",
    "from langchain.chat_models import ChatOpenAI\n",
    "from langchain.tools import BaseTool\n",
    "from pydantic import BaseModel, Field\n",
    "from langchain.agents import initialize_agent, AgentType\n",
    "\n",
    "llm = ChatOpenAI(temperature=0.1)\n",
    "\n",
    "\n",
    "class CalculatorToolArgsSchema(BaseModel):\n",
    "    a: float = Field(description=\"The first number\")\n",
    "    b: float = Field(description=\"The second number\")\n",
    "\n",
    "\n",
    "class CalculatorTool(BaseTool):\n",
    "    name: str = \"CalculatorTool\"\n",
    "    description: str = \"\"\"\n",
    "    Use this to perform multiplications of two numbers.\n",
    "    The first and second arguments should be numbers.\n",
    "    Only receives two arguments.\n",
    "    \"\"\"\n",
    "    args_schema: Type[CalculatorToolArgsSchema] = CalculatorToolArgsSchema\n",
    "\n",
    "    def _run(self, a, b):\n",
    "        return a * b\n",
    "\n",
    "\n",
    "agent = initialize_agent(\n",
    "    llm=llm,\n",
    "    verbose=True,\n",
    "    agent=AgentType.OPENAI_FUNCTIONS,\n",
    "    handle_parsing_errors=True,\n",
    "    tools=[\n",
    "        CalculatorTool(),\n",
    "    ],\n",
    ")\n",
    "\n",
    "prompt = \"Cost of $2.4 x $45.3 x $23.7\"\n",
    "# prompt = \"Cost of $355.39 + $924.87 + $721.2 + $1940.29 + $573.63 + $65.72 + $35.00 + $552.00 + $76.16 + $29.12\"\n",
    "\n",
    "agent.invoke(prompt)"
   ]
  },
  {
   "cell_type": "markdown",
   "id": "3befc704",
   "metadata": {},
   "source": [
    "#12.5 Search Tool"
   ]
  },
  {
   "cell_type": "code",
   "execution_count": 10,
   "id": "f560ca38",
   "metadata": {},
   "outputs": [
    {
     "name": "stdout",
     "output_type": "stream",
     "text": [
      "\n",
      "\n",
      "\u001b[1m> Entering new AgentExecutor chain...\u001b[0m\n"
     ]
    },
    {
     "name": "stderr",
     "output_type": "stream",
     "text": [
      "/Users/yongjae/Documents/WEB-APP-Projects/FullStack-GPT/env/lib/python3.11/site-packages/langchain_community/chat_models/openai.py:495: PydanticDeprecatedSince20: The `dict` method is deprecated; use `model_dump` instead. Deprecated in Pydantic V2.0 to be removed in V3.0. See Pydantic V2 Migration Guide at https://errors.pydantic.dev/2.11/migration/\n",
      "  response = response.dict()\n",
      "/Users/yongjae/Documents/WEB-APP-Projects/FullStack-GPT/env/lib/python3.11/site-packages/langchain_community/utilities/duckduckgo_search.py:63: RuntimeWarning: This package (`duckduckgo_search`) has been renamed to `ddgs`! Use `pip install ddgs` instead.\n",
      "  with DDGS() as ddgs:\n"
     ]
    },
    {
     "name": "stdout",
     "output_type": "stream",
     "text": [
      "\u001b[32;1m\u001b[1;3m\n",
      "Invoking: `StockMarketSymbolSearchTool` with `{'query': 'Stock Market Symbol for Tesla'}`\n",
      "\n",
      "\n",
      "\u001b[0m\u001b[36;1m\u001b[1;3msnippet: 4、在连锁零售门店中有时称单品为一个SKU（中文译为最小存货单位，英文全称为 stock keeping unit, 简称SKU，定义为保存库存控制的最小可用单位，例如纺织品中一个SKU通常表示规格， …, title: SKU到底是什么意思？大白话说一下，最好举个例子，谢谢 - 知乎, link: https://www.zhihu.com/question/292246379, snippet: 先看看stock一词各个义项在英语中的使用分部，可见 “股票” 必然是绝大多数时候的含义，而它的本意 “树干” 早就很少使用了，这中间的过程，我们结合时间线和衍生脉络一起分析： stock 一 …, title: 怎么记 stock 这个单词的词意？ - 知乎, link: https://www.zhihu.com/question/448182657, snippet: Aug 19, 2021 · 金融大佬可以帮忙解释翻译一下stock, security, fund, bond这几个词吗？ 原文是讲中国改革开放和市场改革的。 句子：China is boldly moving beyond stocks into new types …, title: 金融大佬可以帮忙解释翻译一下stock, security, fund, bond这几个 …, link: https://www.zhihu.com/question/480942889, snippet: 投资炒股常用的10个APP，你最钟意哪一款？ 每个券商都有自己的交易APP，券商自己的APP一般只支持自家券商账户登录交易，部分券商也支持三方平台进行登录交易，因为三方平台可以支 …, title: 投资炒股常用的10个APP，你最钟意哪一款？ - 知乎, link: https://www.zhihu.com/question/401767471\u001b[0m\u001b[32;1m\u001b[1;3mThe stock market symbol for Tesla is TSLA. Now, let's gather information on Tesla's stock performance and analyze if it's a potential good investment.\n",
      "To analyze if Tesla's stock is a potential good investment, we need to consider various factors such as:\n",
      "\n",
      "1. **Financial Performance**: Look at Tesla's revenue growth, profitability, and cash flow. Analyze if the company is consistently growing and generating profits.\n",
      "\n",
      "2. **Market Trends**: Consider the trends in the electric vehicle industry and how Tesla is positioned compared to its competitors.\n",
      "\n",
      "3. **Future Growth Potential**: Evaluate Tesla's future growth prospects, including new product launches, expansion into new markets, and technological advancements.\n",
      "\n",
      "4. **Risk Factors**: Assess any risks associated with investing in Tesla, such as regulatory challenges, competition, and market volatility.\n",
      "\n",
      "5. **Valuation**: Determine if Tesla's stock is undervalued or overvalued based on its current price compared to its intrinsic value.\n",
      "\n",
      "By analyzing these factors and conducting thorough research, you can make an informed decision on whether Tesla's stock is a potential good investment for you.\u001b[0m\n",
      "\n",
      "\u001b[1m> Finished chain.\u001b[0m\n"
     ]
    },
    {
     "name": "stderr",
     "output_type": "stream",
     "text": [
      "/Users/yongjae/Documents/WEB-APP-Projects/FullStack-GPT/env/lib/python3.11/site-packages/langchain_community/chat_models/openai.py:495: PydanticDeprecatedSince20: The `dict` method is deprecated; use `model_dump` instead. Deprecated in Pydantic V2.0 to be removed in V3.0. See Pydantic V2 Migration Guide at https://errors.pydantic.dev/2.11/migration/\n",
      "  response = response.dict()\n"
     ]
    },
    {
     "data": {
      "text/plain": [
       "{'input': \"Give me information on Tesla's stock and help me analyze if it's a potential good investment. Also tell me what symbol does the stock have.\",\n",
       " 'output': \"The stock market symbol for Tesla is TSLA. Now, let's gather information on Tesla's stock performance and analyze if it's a potential good investment.\\nTo analyze if Tesla's stock is a potential good investment, we need to consider various factors such as:\\n\\n1. **Financial Performance**: Look at Tesla's revenue growth, profitability, and cash flow. Analyze if the company is consistently growing and generating profits.\\n\\n2. **Market Trends**: Consider the trends in the electric vehicle industry and how Tesla is positioned compared to its competitors.\\n\\n3. **Future Growth Potential**: Evaluate Tesla's future growth prospects, including new product launches, expansion into new markets, and technological advancements.\\n\\n4. **Risk Factors**: Assess any risks associated with investing in Tesla, such as regulatory challenges, competition, and market volatility.\\n\\n5. **Valuation**: Determine if Tesla's stock is undervalued or overvalued based on its current price compared to its intrinsic value.\\n\\nBy analyzing these factors and conducting thorough research, you can make an informed decision on whether Tesla's stock is a potential good investment for you.\"}"
      ]
     },
     "execution_count": 10,
     "metadata": {},
     "output_type": "execute_result"
    }
   ],
   "source": [
    "from typing import Any, Type\n",
    "from langchain.chat_models import ChatOpenAI\n",
    "from langchain.tools import BaseTool\n",
    "from pydantic import BaseModel, Field\n",
    "from langchain.agents import initialize_agent, AgentType\n",
    "from langchain_community.tools import DuckDuckGoSearchResults\n",
    "\n",
    "llm = ChatOpenAI(temperature=0.1)\n",
    "\n",
    "\n",
    "class StockMarketSymbolSearchToolArgsSchema(BaseModel):\n",
    "    query: str = Field(\n",
    "        description=\"The query you will search for.Example query: Stock Market Symbol for Apple Company\"\n",
    "    )\n",
    "\n",
    "\n",
    "class StockMarketSymbolSearchTool(BaseTool):\n",
    "    name: str = \"StockMarketSymbolSearchTool\"\n",
    "    description: str = \"\"\"\n",
    "    Use this tool to find the stock market symbol for a company.\n",
    "    It takes a query as an argument.\n",
    "    \"\"\"\n",
    "    args_schema: Type[\n",
    "        StockMarketSymbolSearchToolArgsSchema\n",
    "    ] = StockMarketSymbolSearchToolArgsSchema\n",
    "\n",
    "    def _run(self, query):\n",
    "        ddg = DuckDuckGoSearchResults()\n",
    "        return ddg.run(query)\n",
    "\n",
    "\n",
    "agent = initialize_agent(\n",
    "    llm=llm,\n",
    "    verbose=True,\n",
    "    agent=AgentType.OPENAI_FUNCTIONS,\n",
    "    handle_parsing_errors=True,\n",
    "    tools=[\n",
    "        StockMarketSymbolSearchTool(),\n",
    "    ],\n",
    ")\n",
    "\n",
    "prompt = \"Give me information on Tesla's stock and help me analyze if it's a potential good investment. Also tell me what symbol does the stock have.\"\n",
    "\n",
    "agent.invoke(prompt)"
   ]
  },
  {
   "cell_type": "markdown",
   "id": "5958602f",
   "metadata": {},
   "source": [
    "#12.6 Stock Information Tools"
   ]
  },
  {
   "cell_type": "code",
   "execution_count": 15,
   "id": "39305e93",
   "metadata": {},
   "outputs": [
    {
     "name": "stdout",
     "output_type": "stream",
     "text": [
      "\n",
      "\n",
      "\u001b[1m> Entering new AgentExecutor chain...\u001b[0m\n"
     ]
    },
    {
     "name": "stderr",
     "output_type": "stream",
     "text": [
      "/Users/yongjae/Documents/WEB-APP-Projects/FullStack-GPT/env/lib/python3.11/site-packages/langchain_community/chat_models/openai.py:495: PydanticDeprecatedSince20: The `dict` method is deprecated; use `model_dump` instead. Deprecated in Pydantic V2.0 to be removed in V3.0. See Pydantic V2 Migration Guide at https://errors.pydantic.dev/2.11/migration/\n",
      "  response = response.dict()\n",
      "/Users/yongjae/Documents/WEB-APP-Projects/FullStack-GPT/env/lib/python3.11/site-packages/langchain_community/utilities/duckduckgo_search.py:63: RuntimeWarning: This package (`duckduckgo_search`) has been renamed to `ddgs`! Use `pip install ddgs` instead.\n",
      "  with DDGS() as ddgs:\n"
     ]
    },
    {
     "name": "stdout",
     "output_type": "stream",
     "text": [
      "\u001b[32;1m\u001b[1;3m\n",
      "Invoking: `StockMarketSymbolSearchTool` with `{'query': 'Stock Market Symbol for Tesla'}`\n",
      "\n",
      "\n",
      "\u001b[0m\u001b[36;1m\u001b[1;3msnippet: 4、在连锁零售门店中有时称单品为一个SKU（中文译为最小存货单位，英文全称为 stock keeping unit, 简称SKU，定义为保存 …, title: SKU到底是什么意思？大白话说一下，最好举个例子，谢谢 - 知乎, link: https://www.zhihu.com/question/292246379, snippet: 先看看stock一词各个义项在英语中的使用分部，可见 “股票” 必然是绝大多数时候的含义，而它的本意 “树干” 早就很少使用了，这中间 …, title: 怎么记 stock 这个单词的词意？ - 知乎, link: https://www.zhihu.com/question/448182657, snippet: Aug 19, 2021 · 金融大佬可以帮忙解释翻译一下stock, security, fund, bond这几个词吗？ 原文是讲中国改革开放和市场改革的。 句 …, title: 金融大佬可以帮忙解释翻译一下stock, security, fund, bond这几个 …, link: https://www.zhihu.com/question/480942889, snippet: 投资炒股常用的10个APP，你最钟意哪一款？ 每个券商都有自己的交易APP，券商自己的APP一般只支持自家券商账户登录交易， …, title: 投资炒股常用的10个APP，你最钟意哪一款？ - 知乎, link: https://www.zhihu.com/question/401767471\u001b[0m"
     ]
    },
    {
     "name": "stderr",
     "output_type": "stream",
     "text": [
      "/Users/yongjae/Documents/WEB-APP-Projects/FullStack-GPT/env/lib/python3.11/site-packages/langchain_community/chat_models/openai.py:495: PydanticDeprecatedSince20: The `dict` method is deprecated; use `model_dump` instead. Deprecated in Pydantic V2.0 to be removed in V3.0. See Pydantic V2 Migration Guide at https://errors.pydantic.dev/2.11/migration/\n",
      "  response = response.dict()\n"
     ]
    },
    {
     "name": "stdout",
     "output_type": "stream",
     "text": [
      "\u001b[32;1m\u001b[1;3m\n",
      "Invoking: `CompanyOverview` with `{'symbol': 'TSLA'}`\n",
      "\n",
      "\n",
      "\u001b[0m\u001b[33;1m\u001b[1;3m{'Symbol': 'TSLA', 'AssetType': 'Common Stock', 'Name': 'Tesla Inc', 'Description': \"Tesla, Inc. is an American electric vehicle and clean energy company based in Palo Alto, California. Tesla's current products include electric cars, battery energy storage from home to grid-scale, solar panels and solar roof tiles, as well as other related products and services. In 2020, Tesla had the highest sales in the plug-in and battery electric passenger car segments, capturing 16% of the plug-in market (which includes plug-in hybrids) and 23% of the battery-electric (purely electric) market. Through its subsidiary Tesla Energy, the company develops and is a major installer of solar photovoltaic energy generation systems in the United States. Tesla Energy is also one of the largest global suppliers of battery energy storage systems, with 3 GWh of battery storage supplied in 2020.\", 'CIK': '1318605', 'Exchange': 'NASDAQ', 'Currency': 'USD', 'Country': 'USA', 'Sector': 'CONSUMER CYCLICAL', 'Industry': 'AUTO MANUFACTURERS', 'Address': '1 TESLA ROAD, AUSTIN, TX, UNITED STATES, 78725', 'OfficialSite': 'https://www.tesla.com', 'FiscalYearEnd': 'December', 'LatestQuarter': '2025-06-30', 'MarketCapitalization': '1322563535000', 'EBITDA': '11346000000', 'PERatio': '238.4', 'PEGRatio': '7.05', 'BookValue': '23.98', 'DividendPerShare': 'None', 'DividendYield': 'None', 'EPS': '1.72', 'RevenuePerShareTTM': '28.86', 'ProfitMargin': '0.0634', 'OperatingMarginTTM': '0.041', 'ReturnOnAssetsTTM': '0.0291', 'ReturnOnEquityTTM': '0.0818', 'RevenueTTM': '92719997000', 'GrossProfitTTM': '16207000000', 'DilutedEPSTTM': '1.72', 'QuarterlyEarningsGrowthYOY': '-0.175', 'QuarterlyRevenueGrowthYOY': '-0.118', 'AnalystTargetPrice': '314.1', 'AnalystRatingStrongBuy': '5', 'AnalystRatingBuy': '14', 'AnalystRatingHold': '18', 'AnalystRatingSell': '7', 'AnalystRatingStrongSell': '3', 'TrailingPE': '238.4', 'ForwardPE': '156.25', 'PriceToSalesRatioTTM': '14.26', 'PriceToBookRatio': '16.52', 'EVToRevenue': '13.52', 'EVToEBITDA': '92.56', 'Beta': '2.065', '52WeekHigh': '488.54', '52WeekLow': '212.11', '50DayMovingAverage': '330.42', '200DayMovingAverage': '331.09', 'SharesOutstanding': '3225450000', 'SharesFloat': '2819913000', 'PercentInsiders': '12.875', 'PercentInstitutions': '50.941', 'DividendDate': 'None', 'ExDividendDate': 'None'}\u001b[0m"
     ]
    },
    {
     "name": "stderr",
     "output_type": "stream",
     "text": [
      "/Users/yongjae/Documents/WEB-APP-Projects/FullStack-GPT/env/lib/python3.11/site-packages/langchain_community/chat_models/openai.py:495: PydanticDeprecatedSince20: The `dict` method is deprecated; use `model_dump` instead. Deprecated in Pydantic V2.0 to be removed in V3.0. See Pydantic V2 Migration Guide at https://errors.pydantic.dev/2.11/migration/\n",
      "  response = response.dict()\n"
     ]
    },
    {
     "name": "stdout",
     "output_type": "stream",
     "text": [
      "\u001b[32;1m\u001b[1;3m\n",
      "Invoking: `CompanyIncomeStatement` with `{'symbol': 'TSLA'}`\n",
      "\n",
      "\n",
      "\u001b[0m\u001b[38;5;200m\u001b[1;3m[{'fiscalDateEnding': '2024-12-31', 'reportedCurrency': 'USD', 'grossProfit': '17450000000', 'totalRevenue': '97690000000', 'costOfRevenue': '80240000000', 'costofGoodsAndServicesSold': '80240000000', 'operatingIncome': '7076000000', 'sellingGeneralAndAdministrative': '5150000000', 'researchAndDevelopment': '4540000000', 'operatingExpenses': '10374000000', 'investmentIncomeNet': 'None', 'netInterestIncome': '1219000000', 'interestIncome': '1569000000', 'interestExpense': '350000000', 'nonInterestIncome': 'None', 'otherNonOperatingIncome': 'None', 'depreciation': 'None', 'depreciationAndAmortization': '5368000000', 'incomeBeforeTax': '8990000000', 'incomeTaxExpense': '1837000000', 'interestAndDebtExpense': 'None', 'netIncomeFromContinuingOperations': '7153000000', 'comprehensiveIncomeNetOfTax': 'None', 'ebit': '9340000000', 'ebitda': '14708000000', 'netIncome': '7130000000'}, {'fiscalDateEnding': '2023-12-31', 'reportedCurrency': 'USD', 'grossProfit': '17660000000', 'totalRevenue': '96773000000', 'costOfRevenue': '79113000000', 'costofGoodsAndServicesSold': '79113000000', 'operatingIncome': '8891000000', 'sellingGeneralAndAdministrative': '4800000000', 'researchAndDevelopment': '3969000000', 'operatingExpenses': '8769000000', 'investmentIncomeNet': 'None', 'netInterestIncome': '910000000', 'interestIncome': '1066000000', 'interestExpense': '156000000', 'nonInterestIncome': 'None', 'otherNonOperatingIncome': 'None', 'depreciation': 'None', 'depreciationAndAmortization': '4667000000', 'incomeBeforeTax': '9973000000', 'incomeTaxExpense': '-5001000000', 'interestAndDebtExpense': 'None', 'netIncomeFromContinuingOperations': '14974000000', 'comprehensiveIncomeNetOfTax': 'None', 'ebit': '10129000000', 'ebitda': '14796000000', 'netIncome': '14974000000'}, {'fiscalDateEnding': '2022-12-31', 'reportedCurrency': 'USD', 'grossProfit': '20853000000', 'totalRevenue': '81462000000', 'costOfRevenue': '60609000000', 'costofGoodsAndServicesSold': '60609000000', 'operatingIncome': '13656000000', 'sellingGeneralAndAdministrative': '3946000000', 'researchAndDevelopment': '3075000000', 'operatingExpenses': '7021000000', 'investmentIncomeNet': 'None', 'netInterestIncome': '106000000', 'interestIncome': '41000000', 'interestExpense': '191000000', 'nonInterestIncome': 'None', 'otherNonOperatingIncome': 'None', 'depreciation': 'None', 'depreciationAndAmortization': '3543000000', 'incomeBeforeTax': '13719000000', 'incomeTaxExpense': '1132000000', 'interestAndDebtExpense': 'None', 'netIncomeFromContinuingOperations': '12587000000', 'comprehensiveIncomeNetOfTax': 'None', 'ebit': '14290000000', 'ebitda': '17833000000', 'netIncome': '12587000000'}, {'fiscalDateEnding': '2021-12-31', 'reportedCurrency': 'USD', 'grossProfit': '13606000000', 'totalRevenue': '53823000000', 'costOfRevenue': '40217000000', 'costofGoodsAndServicesSold': '40217000000', 'operatingIncome': '6687000000', 'sellingGeneralAndAdministrative': '4517000000', 'researchAndDevelopment': '2593000000', 'operatingExpenses': '7110000000', 'investmentIncomeNet': 'None', 'netInterestIncome': '-315000000', 'interestIncome': '56000000', 'interestExpense': '371000000', 'nonInterestIncome': 'None', 'otherNonOperatingIncome': '191000000', 'depreciation': 'None', 'depreciationAndAmortization': '2911000000', 'incomeBeforeTax': '6343000000', 'incomeTaxExpense': '699000000', 'interestAndDebtExpense': 'None', 'netIncomeFromContinuingOperations': '5644000000', 'comprehensiveIncomeNetOfTax': 'None', 'ebit': '6687000000', 'ebitda': '9598000000', 'netIncome': '5644000000'}, {'fiscalDateEnding': '2020-12-31', 'reportedCurrency': 'USD', 'grossProfit': '6630000000', 'totalRevenue': '31536000000', 'costOfRevenue': '24906000000', 'costofGoodsAndServicesSold': '24906000000', 'operatingIncome': '1994000000', 'sellingGeneralAndAdministrative': '3145000000', 'researchAndDevelopment': '1491000000', 'operatingExpenses': '4636000000', 'investmentIncomeNet': 'None', 'netInterestIncome': '-718000000', 'interestIncome': '30000000', 'interestExpense': '748000000', 'nonInterestIncome': 'None', 'otherNonOperatingIncome': 'None', 'depreciation': 'None', 'depreciationAndAmortization': '2322000000', 'incomeBeforeTax': '1154000000', 'incomeTaxExpense': '292000000', 'interestAndDebtExpense': 'None', 'netIncomeFromContinuingOperations': '862000000', 'comprehensiveIncomeNetOfTax': 'None', 'ebit': '1902000000', 'ebitda': '4224000000', 'netIncome': '721000000'}, {'fiscalDateEnding': '2019-12-31', 'reportedCurrency': 'USD', 'grossProfit': '4069000000', 'totalRevenue': '24578000000', 'costOfRevenue': '20509000000', 'costofGoodsAndServicesSold': '20509000000', 'operatingIncome': '-69000000', 'sellingGeneralAndAdministrative': '2646000000', 'researchAndDevelopment': '1343000000', 'operatingExpenses': '4000000000', 'investmentIncomeNet': 'None', 'netInterestIncome': '-641000000', 'interestIncome': '44000000', 'interestExpense': '685000000', 'nonInterestIncome': 'None', 'otherNonOperatingIncome': 'None', 'depreciation': 'None', 'depreciationAndAmortization': '2154000000', 'incomeBeforeTax': '-665000000', 'incomeTaxExpense': '110000000', 'interestAndDebtExpense': 'None', 'netIncomeFromContinuingOperations': '-775000000', 'comprehensiveIncomeNetOfTax': 'None', 'ebit': '18000000', 'ebitda': '2172000000', 'netIncome': '-862000000'}, {'fiscalDateEnding': '2018-12-31', 'reportedCurrency': 'USD', 'grossProfit': '4042021000', 'totalRevenue': '21461268000', 'costOfRevenue': '17419247000', 'costofGoodsAndServicesSold': '17419247000', 'operatingIncome': '-388000000', 'sellingGeneralAndAdministrative': '2835000000', 'researchAndDevelopment': '1460370000', 'operatingExpenses': '4430000000', 'investmentIncomeNet': 'None', 'netInterestIncome': '-638538000', 'interestIncome': '24533000', 'interestExpense': '663000000', 'nonInterestIncome': 'None', 'otherNonOperatingIncome': 'None', 'depreciation': 'None', 'depreciationAndAmortization': '1901000000', 'incomeBeforeTax': '-1005000000', 'incomeTaxExpense': '58000000', 'interestAndDebtExpense': 'None', 'netIncomeFromContinuingOperations': '-1062582000', 'comprehensiveIncomeNetOfTax': 'None', 'ebit': '-342000000', 'ebitda': '1559000000', 'netIncome': '-976000000'}, {'fiscalDateEnding': '2017-12-31', 'reportedCurrency': 'USD', 'grossProfit': '2223000000', 'totalRevenue': '11759000000', 'costOfRevenue': '9536000000', 'costofGoodsAndServicesSold': '9536000000', 'operatingIncome': '-1632000000', 'sellingGeneralAndAdministrative': '2439500000', 'researchAndDevelopment': '1378000000', 'operatingExpenses': '3855000000', 'investmentIncomeNet': 'None', 'netInterestIncome': '-451573000', 'interestIncome': '19686000', 'interestExpense': '471000000', 'nonInterestIncome': 'None', 'otherNonOperatingIncome': 'None', 'depreciation': 'None', 'depreciationAndAmortization': '1636000000', 'incomeBeforeTax': '-2209000000', 'incomeTaxExpense': '32000000', 'interestAndDebtExpense': 'None', 'netIncomeFromContinuingOperations': '-2240578000', 'comprehensiveIncomeNetOfTax': 'None', 'ebit': '-1738000000', 'ebitda': '-102000000', 'netIncome': '-1962000000'}, {'fiscalDateEnding': '2016-12-31', 'reportedCurrency': 'USD', 'grossProfit': '1599257000', 'totalRevenue': '7000132000', 'costOfRevenue': '5400875000', 'costofGoodsAndServicesSold': '5400875000', 'operatingIncome': '-667340000', 'sellingGeneralAndAdministrative': '1384189000', 'researchAndDevelopment': '834408000', 'operatingExpenses': '2266597000', 'investmentIncomeNet': 'None', 'netInterestIncome': 'None', 'interestIncome': '164180000', 'interestExpense': '198810000', 'nonInterestIncome': 'None', 'otherNonOperatingIncome': 'None', 'depreciation': 'None', 'depreciationAndAmortization': '947099000', 'incomeBeforeTax': '-746348000', 'incomeTaxExpense': '26698000', 'interestAndDebtExpense': 'None', 'netIncomeFromContinuingOperations': 'None', 'comprehensiveIncomeNetOfTax': 'None', 'ebit': '-547538000', 'ebitda': '399561000', 'netIncome': '-674914000'}, {'fiscalDateEnding': '2015-12-31', 'reportedCurrency': 'USD', 'grossProfit': '923503000', 'totalRevenue': '4046025000', 'costOfRevenue': '3122522000', 'costofGoodsAndServicesSold': '3122522000', 'operatingIncome': '-716629000', 'sellingGeneralAndAdministrative': '863932000', 'researchAndDevelopment': '717900000', 'operatingExpenses': '1640132000', 'investmentIncomeNet': 'None', 'netInterestIncome': 'None', 'interestIncome': 'None', 'interestExpense': '118851000', 'nonInterestIncome': 'None', 'otherNonOperatingIncome': 'None', 'depreciation': 'None', 'depreciationAndAmortization': '422590000', 'incomeBeforeTax': '-875624000', 'incomeTaxExpense': '13039000', 'interestAndDebtExpense': 'None', 'netIncomeFromContinuingOperations': 'None', 'comprehensiveIncomeNetOfTax': 'None', 'ebit': '-756773000', 'ebitda': '-334183000', 'netIncome': '-888663000'}, {'fiscalDateEnding': '2014-12-31', 'reportedCurrency': 'USD', 'grossProfit': '881671000', 'totalRevenue': '3198356000', 'costOfRevenue': '2316685000', 'costofGoodsAndServicesSold': '2316685000', 'operatingIncome': '-186689000', 'sellingGeneralAndAdministrative': '554760000', 'researchAndDevelopment': '464700000', 'operatingExpenses': '1068360000', 'investmentIncomeNet': 'None', 'netInterestIncome': 'None', 'interestIncome': 'None', 'interestExpense': '100886000', 'nonInterestIncome': 'None', 'otherNonOperatingIncome': 'None', 'depreciation': 'None', 'depreciationAndAmortization': '231931000', 'incomeBeforeTax': '-284636000', 'incomeTaxExpense': '9404000', 'interestAndDebtExpense': 'None', 'netIncomeFromContinuingOperations': 'None', 'comprehensiveIncomeNetOfTax': 'None', 'ebit': '-183750000', 'ebitda': '48181000', 'netIncome': '-294040000'}, {'fiscalDateEnding': '2013-12-31', 'reportedCurrency': 'USD', 'grossProfit': '456262000', 'totalRevenue': '2013496000', 'costOfRevenue': '1557234000', 'costofGoodsAndServicesSold': '1557234000', 'operatingIncome': '-61283000', 'sellingGeneralAndAdministrative': '276569000', 'researchAndDevelopment': '231976000', 'operatingExpenses': '517545000', 'investmentIncomeNet': 'None', 'netInterestIncome': 'None', 'interestIncome': 'None', 'interestExpense': '32934000', 'nonInterestIncome': 'None', 'otherNonOperatingIncome': 'None', 'depreciation': 'None', 'depreciationAndAmortization': '106083000', 'incomeBeforeTax': '-71426000', 'incomeTaxExpense': '2588000', 'interestAndDebtExpense': 'None', 'netIncomeFromContinuingOperations': 'None', 'comprehensiveIncomeNetOfTax': 'None', 'ebit': '-38492000', 'ebitda': '67591000', 'netIncome': '-74014000'}, {'fiscalDateEnding': '2012-12-31', 'reportedCurrency': 'USD', 'grossProfit': '30067000', 'totalRevenue': '413256000', 'costOfRevenue': '383189000', 'costofGoodsAndServicesSold': '383189000', 'operatingIncome': '-394283000', 'sellingGeneralAndAdministrative': '146472000', 'researchAndDevelopment': '273978000', 'operatingExpenses': '424350000', 'investmentIncomeNet': 'None', 'netInterestIncome': 'None', 'interestIncome': 'None', 'interestExpense': '254000', 'nonInterestIncome': 'None', 'otherNonOperatingIncome': 'None', 'depreciation': 'None', 'depreciationAndAmortization': '28825000', 'incomeBeforeTax': '-396077000', 'incomeTaxExpense': '136000', 'interestAndDebtExpense': 'None', 'netIncomeFromContinuingOperations': 'None', 'comprehensiveIncomeNetOfTax': 'None', 'ebit': '-395823000', 'ebitda': '-366998000', 'netIncome': '-396213000'}, {'fiscalDateEnding': '2011-12-31', 'reportedCurrency': 'USD', 'grossProfit': '61595000', 'totalRevenue': '204242000', 'costOfRevenue': '142647000', 'costofGoodsAndServicesSold': '142647000', 'operatingIncome': '-251488000', 'sellingGeneralAndAdministrative': '104102000', 'researchAndDevelopment': '208981000', 'operatingExpenses': '313083000', 'investmentIncomeNet': 'None', 'netInterestIncome': 'None', 'interestIncome': 'None', 'interestExpense': '43000', 'nonInterestIncome': 'None', 'otherNonOperatingIncome': 'None', 'depreciation': 'None', 'depreciationAndAmortization': '16919000', 'incomeBeforeTax': '-253922000', 'incomeTaxExpense': '489000', 'interestAndDebtExpense': 'None', 'netIncomeFromContinuingOperations': 'None', 'comprehensiveIncomeNetOfTax': 'None', 'ebit': '-253879000', 'ebitda': '-236960000', 'netIncome': '-254411000'}, {'fiscalDateEnding': '2010-12-31', 'reportedCurrency': 'USD', 'grossProfit': '30731000', 'totalRevenue': '116744000', 'costOfRevenue': '86013000', 'costofGoodsAndServicesSold': '86013000', 'operatingIncome': '-146838000', 'sellingGeneralAndAdministrative': '84573000', 'researchAndDevelopment': '92996000', 'operatingExpenses': '177569000', 'investmentIncomeNet': 'None', 'netInterestIncome': 'None', 'interestIncome': 'None', 'interestExpense': '992000', 'nonInterestIncome': 'None', 'otherNonOperatingIncome': 'None', 'depreciation': 'None', 'depreciationAndAmortization': '10623000', 'incomeBeforeTax': '-154155000', 'incomeTaxExpense': '173000', 'interestAndDebtExpense': 'None', 'netIncomeFromContinuingOperations': 'None', 'comprehensiveIncomeNetOfTax': 'None', 'ebit': '-153163000', 'ebitda': '-142540000', 'netIncome': '-154328000'}, {'fiscalDateEnding': '2009-12-31', 'reportedCurrency': 'USD', 'grossProfit': '9535000', 'totalRevenue': '111943000', 'costOfRevenue': '102408000', 'costofGoodsAndServicesSold': '102408000', 'operatingIncome': '-51897000', 'sellingGeneralAndAdministrative': 'None', 'researchAndDevelopment': '19282000', 'operatingExpenses': '61432000', 'investmentIncomeNet': 'None', 'netInterestIncome': 'None', 'interestIncome': 'None', 'interestExpense': '2531000', 'nonInterestIncome': 'None', 'otherNonOperatingIncome': 'None', 'depreciation': 'None', 'depreciationAndAmortization': '6940000', 'incomeBeforeTax': '-55714000', 'incomeTaxExpense': '26000', 'interestAndDebtExpense': 'None', 'netIncomeFromContinuingOperations': 'None', 'comprehensiveIncomeNetOfTax': 'None', 'ebit': '-53183000', 'ebitda': '-46243000', 'netIncome': '-55740000'}, {'fiscalDateEnding': '2008-12-31', 'reportedCurrency': 'USD', 'grossProfit': '-1141000', 'totalRevenue': '14742000', 'costOfRevenue': '15883000', 'costofGoodsAndServicesSold': '15883000', 'operatingIncome': '-78504000', 'sellingGeneralAndAdministrative': 'None', 'researchAndDevelopment': '53714000', 'operatingExpenses': '77363000', 'investmentIncomeNet': 'None', 'netInterestIncome': 'None', 'interestIncome': 'None', 'interestExpense': '3747000', 'nonInterestIncome': 'None', 'otherNonOperatingIncome': 'None', 'depreciation': 'None', 'depreciationAndAmortization': '4157000', 'incomeBeforeTax': '-82685000', 'incomeTaxExpense': '97000', 'interestAndDebtExpense': 'None', 'netIncomeFromContinuingOperations': 'None', 'comprehensiveIncomeNetOfTax': 'None', 'ebit': '-78938000', 'ebitda': '-74781000', 'netIncome': '-82782000'}, {'fiscalDateEnding': '2007-12-31', 'reportedCurrency': 'USD', 'grossProfit': '64000', 'totalRevenue': '73000', 'costOfRevenue': '9000', 'costofGoodsAndServicesSold': '9000', 'operatingIncome': '-79933000', 'sellingGeneralAndAdministrative': 'None', 'researchAndDevelopment': '62753000', 'operatingExpenses': '79997000', 'investmentIncomeNet': 'None', 'netInterestIncome': 'None', 'interestIncome': 'None', 'interestExpense': '1749000', 'nonInterestIncome': 'None', 'otherNonOperatingIncome': 'None', 'depreciation': 'None', 'depreciationAndAmortization': '2895000', 'incomeBeforeTax': '-78047000', 'incomeTaxExpense': '110000', 'interestAndDebtExpense': 'None', 'netIncomeFromContinuingOperations': 'None', 'comprehensiveIncomeNetOfTax': 'None', 'ebit': '-78047000', 'ebitda': '-75152000', 'netIncome': '-78157000'}, {'fiscalDateEnding': '2006-12-31', 'reportedCurrency': 'USD', 'grossProfit': '-615000', 'totalRevenue': 'None', 'costOfRevenue': '615000', 'costofGoodsAndServicesSold': '615000', 'operatingIncome': '-30431000', 'sellingGeneralAndAdministrative': 'None', 'researchAndDevelopment': '24995000', 'operatingExpenses': '29816000', 'investmentIncomeNet': 'None', 'netInterestIncome': 'None', 'interestIncome': 'None', 'interestExpense': '423000', 'nonInterestIncome': 'None', 'otherNonOperatingIncome': 'None', 'depreciation': 'None', 'depreciationAndAmortization': '615000', 'incomeBeforeTax': '-29857000', 'incomeTaxExpense': '100000', 'interestAndDebtExpense': 'None', 'netIncomeFromContinuingOperations': 'None', 'comprehensiveIncomeNetOfTax': 'None', 'ebit': '-29434000', 'ebitda': '-28819000', 'netIncome': '-29957000'}]\u001b[0m\u001b[32;1m\u001b[1;3mHere is the financial information for Tesla Inc:\n",
      "\n",
      "- **Company Overview:**\n",
      "  - Name: Tesla Inc\n",
      "  - Description: Tesla, Inc. is an American electric vehicle and clean energy company based in Palo Alto, California. Tesla's current products include electric cars, battery energy storage from home to grid-scale, solar panels and solar roof tiles, as well as other related products and services. In 2020, Tesla had the highest sales in the plug-in and battery electric passenger car segments, capturing 16% of the plug-in market (which includes plug-in hybrids) and 23% of the battery-electric (purely electric) market. Through its subsidiary Tesla Energy, the company develops and is a major installer of solar photovoltaic energy generation systems in the United States. Tesla Energy is also one of the largest global suppliers of battery energy storage systems, with 3 GWh of battery storage supplied in 2020.\n",
      "  - Sector: Consumer Cyclical\n",
      "  - Industry: Auto Manufacturers\n",
      "  - Market Capitalization: $1,322,563,535,000\n",
      "  - Fiscal Year End: December\n",
      "  - Official Site: [Tesla Official Site](https://www.tesla.com)\n",
      "\n",
      "- **Financials:**\n",
      "  - Revenue TTM: $92,719,997,000\n",
      "  - Gross Profit TTM: $16,207,000,000\n",
      "  - EBITDA: $11,346,000,000\n",
      "  - Net Income TTM: $7,130,000,000\n",
      "  - Earnings Per Share (EPS) TTM: $1.72\n",
      "  - Profit Margin: 6.34%\n",
      "  - Operating Margin TTM: 4.1%\n",
      "  - Return on Assets TTM: 2.91%\n",
      "  - Return on Equity TTM: 8.18%\n",
      "  - Quarterly Earnings Growth YOY: -17.5%\n",
      "  - Quarterly Revenue Growth YOY: -11.8%\n",
      "\n",
      "- **Income Statement:**\n",
      "  - The income statement shows the company's revenue, expenses, and profits over the past several years.\n",
      "\n",
      "Based on this information, Tesla has shown strong revenue and gross profit figures, with a positive net income. However, the quarterly earnings growth and revenue growth have seen a decline. It's important to consider these factors when analyzing Tesla as a potential investment.\u001b[0m\n",
      "\n",
      "\u001b[1m> Finished chain.\u001b[0m\n"
     ]
    },
    {
     "name": "stderr",
     "output_type": "stream",
     "text": [
      "/Users/yongjae/Documents/WEB-APP-Projects/FullStack-GPT/env/lib/python3.11/site-packages/langchain_community/chat_models/openai.py:495: PydanticDeprecatedSince20: The `dict` method is deprecated; use `model_dump` instead. Deprecated in Pydantic V2.0 to be removed in V3.0. See Pydantic V2 Migration Guide at https://errors.pydantic.dev/2.11/migration/\n",
      "  response = response.dict()\n"
     ]
    },
    {
     "data": {
      "text/plain": [
       "{'input': \"Give me financial information on Tesla's stock, considering its financials, income statements help me analyze if it's a potential good investment.\",\n",
       " 'output': \"Here is the financial information for Tesla Inc:\\n\\n- **Company Overview:**\\n  - Name: Tesla Inc\\n  - Description: Tesla, Inc. is an American electric vehicle and clean energy company based in Palo Alto, California. Tesla's current products include electric cars, battery energy storage from home to grid-scale, solar panels and solar roof tiles, as well as other related products and services. In 2020, Tesla had the highest sales in the plug-in and battery electric passenger car segments, capturing 16% of the plug-in market (which includes plug-in hybrids) and 23% of the battery-electric (purely electric) market. Through its subsidiary Tesla Energy, the company develops and is a major installer of solar photovoltaic energy generation systems in the United States. Tesla Energy is also one of the largest global suppliers of battery energy storage systems, with 3 GWh of battery storage supplied in 2020.\\n  - Sector: Consumer Cyclical\\n  - Industry: Auto Manufacturers\\n  - Market Capitalization: $1,322,563,535,000\\n  - Fiscal Year End: December\\n  - Official Site: [Tesla Official Site](https://www.tesla.com)\\n\\n- **Financials:**\\n  - Revenue TTM: $92,719,997,000\\n  - Gross Profit TTM: $16,207,000,000\\n  - EBITDA: $11,346,000,000\\n  - Net Income TTM: $7,130,000,000\\n  - Earnings Per Share (EPS) TTM: $1.72\\n  - Profit Margin: 6.34%\\n  - Operating Margin TTM: 4.1%\\n  - Return on Assets TTM: 2.91%\\n  - Return on Equity TTM: 8.18%\\n  - Quarterly Earnings Growth YOY: -17.5%\\n  - Quarterly Revenue Growth YOY: -11.8%\\n\\n- **Income Statement:**\\n  - The income statement shows the company's revenue, expenses, and profits over the past several years.\\n\\nBased on this information, Tesla has shown strong revenue and gross profit figures, with a positive net income. However, the quarterly earnings growth and revenue growth have seen a decline. It's important to consider these factors when analyzing Tesla as a potential investment.\"}"
      ]
     },
     "execution_count": 15,
     "metadata": {},
     "output_type": "execute_result"
    }
   ],
   "source": [
    "import os\n",
    "import requests\n",
    "from typing import Type\n",
    "from langchain.chat_models import ChatOpenAI\n",
    "from langchain.tools import BaseTool\n",
    "from pydantic import BaseModel, Field\n",
    "from langchain.agents import initialize_agent, AgentType\n",
    "from langchain_community.tools import DuckDuckGoSearchResults\n",
    "\n",
    "llm = ChatOpenAI(temperature=0.1, model_name=\"gpt-3.5-turbo-1106\")\n",
    "\n",
    "alpha_vantage_api_key = os.environ.get(\"ALPHA_VANTAGE_API_KEY\")\n",
    "\n",
    "\n",
    "class StockMarketSymbolSearchToolArgsSchema(BaseModel):\n",
    "    query: str = Field(\n",
    "        description=\"The query you will search for.Example query: Stock Market Symbol for Apple Company\"\n",
    "    )\n",
    "\n",
    "\n",
    "class StockMarketSymbolSearchTool(BaseTool):\n",
    "    name: str = \"StockMarketSymbolSearchTool\"\n",
    "    description: str = \"\"\"\n",
    "    Use this tool to find the stock market symbol for a company.\n",
    "    It takes a query as an argument.\n",
    "    \n",
    "    \"\"\"\n",
    "    args_schema: Type[\n",
    "        StockMarketSymbolSearchToolArgsSchema\n",
    "    ] = StockMarketSymbolSearchToolArgsSchema\n",
    "\n",
    "    def _run(self, query):\n",
    "        ddg = DuckDuckGoSearchResults()\n",
    "        return ddg.run(query)\n",
    "\n",
    "\n",
    "class CompanyOverviewArgsSchema(BaseModel):\n",
    "    symbol: str = Field(\n",
    "        description=\"Stock symbol of the company.Example: AAPL,TSLA\",\n",
    "    )\n",
    "\n",
    "\n",
    "class CompanyOverviewTool(BaseTool):\n",
    "    name: str = \"CompanyOverview\"\n",
    "    description: str = \"\"\"\n",
    "    Use this to get an overview of the financials of the company.\n",
    "    You should enter a stock symbol.\n",
    "    \"\"\"\n",
    "    args_schema: Type[CompanyOverviewArgsSchema] = CompanyOverviewArgsSchema\n",
    "\n",
    "    def _run(self, symbol):\n",
    "        r = requests.get(\n",
    "            f\"https://www.alphavantage.co/query?function=OVERVIEW&symbol={symbol}&apikey={alpha_vantage_api_key}\"\n",
    "        )\n",
    "        return r.json()\n",
    "\n",
    "\n",
    "class CompanyIncomeStatementTool(BaseTool):\n",
    "    name: str = \"CompanyIncomeStatement\"\n",
    "    description: str = \"\"\"\n",
    "    Use this to get the income statement of a company.\n",
    "    You should enter a stock symbol.\n",
    "    \"\"\"\n",
    "    args_schema: Type[CompanyOverviewArgsSchema] = CompanyOverviewArgsSchema\n",
    "\n",
    "    def _run(self, symbol):\n",
    "        r = requests.get(\n",
    "            f\"https://www.alphavantage.co/query?function=INCOME_STATEMENT&symbol={symbol}&apikey={alpha_vantage_api_key}\"\n",
    "        )\n",
    "        return r.json()[\"annualReports\"]\n",
    "\n",
    "\n",
    "class CompanyStockPerformanceTool(BaseTool):\n",
    "    name: str = \"CompanyStockPerformance\"\n",
    "    description: str = \"\"\"\n",
    "    Use this to get the weekly performance of a company stock.\n",
    "    You should enter a stock symbol.\n",
    "    \"\"\"\n",
    "    args_schema: Type[CompanyOverviewArgsSchema] = CompanyOverviewArgsSchema\n",
    "\n",
    "    def _run(self, symbol):\n",
    "        r = requests.get(\n",
    "            f\"https://www.alphavantage.co/query?function=TIME_SERIES_WEEKLY&symbol={symbol}&apikey={alpha_vantage_api_key}\"\n",
    "        )\n",
    "        return r.json()\n",
    "\n",
    "\n",
    "agent = initialize_agent(\n",
    "    llm=llm,\n",
    "    verbose=True,\n",
    "    agent=AgentType.OPENAI_FUNCTIONS,\n",
    "    handle_parsing_errors=True,\n",
    "    tools=[\n",
    "        StockMarketSymbolSearchTool(),\n",
    "        CompanyOverviewTool(),\n",
    "        CompanyIncomeStatementTool(),\n",
    "        CompanyStockPerformanceTool(),\n",
    "    ],\n",
    ")\n",
    "\n",
    "prompt = \"Give me financial information on Tesla's stock, considering its financials, income statements help me analyze if it's a potential good investment.\"\n",
    "\n",
    "agent.invoke(prompt)"
   ]
  }
 ],
 "metadata": {
  "kernelspec": {
   "display_name": "env",
   "language": "python",
   "name": "python3"
  },
  "language_info": {
   "codemirror_mode": {
    "name": "ipython",
    "version": 3
   },
   "file_extension": ".py",
   "mimetype": "text/x-python",
   "name": "python",
   "nbconvert_exporter": "python",
   "pygments_lexer": "ipython3",
   "version": "3.11.8"
  }
 },
 "nbformat": 4,
 "nbformat_minor": 5
}
